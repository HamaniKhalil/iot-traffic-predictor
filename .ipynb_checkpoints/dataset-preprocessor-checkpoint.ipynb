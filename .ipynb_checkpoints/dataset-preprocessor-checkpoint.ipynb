{
 "cells": [
  {
   "cell_type": "markdown",
   "metadata": {},
   "source": [
    "# Import"
   ]
  },
  {
   "cell_type": "code",
   "execution_count": 11,
   "metadata": {},
   "outputs": [],
   "source": [
    "import pandas as pd\n",
    "import numpy as np\n",
    "import math\n",
    "import exrex"
   ]
  },
  {
   "cell_type": "markdown",
   "metadata": {},
   "source": [
    "# Lecture du dataset"
   ]
  },
  {
   "cell_type": "code",
   "execution_count": 7,
   "metadata": {},
   "outputs": [],
   "source": [
    "original_dataset_file = \"dataset/original/mainSimulationAccessTraces.csv\""
   ]
  },
  {
   "cell_type": "code",
   "execution_count": 10,
   "metadata": {},
   "outputs": [
    {
     "data": {
      "text/html": [
       "<div>\n",
       "<style scoped>\n",
       "    .dataframe tbody tr th:only-of-type {\n",
       "        vertical-align: middle;\n",
       "    }\n",
       "\n",
       "    .dataframe tbody tr th {\n",
       "        vertical-align: top;\n",
       "    }\n",
       "\n",
       "    .dataframe thead th {\n",
       "        text-align: right;\n",
       "    }\n",
       "</style>\n",
       "<table border=\"1\" class=\"dataframe\">\n",
       "  <thead>\n",
       "    <tr style=\"text-align: right;\">\n",
       "      <th></th>\n",
       "      <th>sourceID</th>\n",
       "      <th>sourceAddress</th>\n",
       "      <th>sourceType</th>\n",
       "      <th>sourceLocation</th>\n",
       "      <th>destinationServiceAddress</th>\n",
       "      <th>destinationServiceType</th>\n",
       "      <th>destinationLocation</th>\n",
       "      <th>accessedNodeAddress</th>\n",
       "      <th>accessedNodeType</th>\n",
       "      <th>operation</th>\n",
       "      <th>value</th>\n",
       "      <th>timestamp</th>\n",
       "      <th>normality</th>\n",
       "    </tr>\n",
       "  </thead>\n",
       "  <tbody>\n",
       "    <tr>\n",
       "      <th>0</th>\n",
       "      <td>lightcontrol2</td>\n",
       "      <td>/agent2/lightcontrol2</td>\n",
       "      <td>/lightControler</td>\n",
       "      <td>BedroomParents</td>\n",
       "      <td>/agent2/lightcontrol2</td>\n",
       "      <td>/lightControler</td>\n",
       "      <td>BedroomParents</td>\n",
       "      <td>/agent2/lightcontrol2</td>\n",
       "      <td>/lightControler</td>\n",
       "      <td>registerService</td>\n",
       "      <td>none</td>\n",
       "      <td>1520031600000</td>\n",
       "      <td>normal</td>\n",
       "    </tr>\n",
       "    <tr>\n",
       "      <th>1</th>\n",
       "      <td>lightcontrol3</td>\n",
       "      <td>/agent3/lightcontrol3</td>\n",
       "      <td>/lightControler</td>\n",
       "      <td>Dinningroom</td>\n",
       "      <td>/agent3/lightcontrol3</td>\n",
       "      <td>/lightControler</td>\n",
       "      <td>Dinningroom</td>\n",
       "      <td>/agent3/lightcontrol3</td>\n",
       "      <td>/lightControler</td>\n",
       "      <td>registerService</td>\n",
       "      <td>none</td>\n",
       "      <td>1520031603269</td>\n",
       "      <td>normal</td>\n",
       "    </tr>\n",
       "    <tr>\n",
       "      <th>2</th>\n",
       "      <td>lightcontrol1</td>\n",
       "      <td>/agent1/lightcontrol1</td>\n",
       "      <td>/lightControler</td>\n",
       "      <td>BedroomChildren</td>\n",
       "      <td>/agent1/lightcontrol1</td>\n",
       "      <td>/lightControler</td>\n",
       "      <td>BedroomChildren</td>\n",
       "      <td>/agent1/lightcontrol1</td>\n",
       "      <td>/lightControler</td>\n",
       "      <td>registerService</td>\n",
       "      <td>none</td>\n",
       "      <td>1520031603279</td>\n",
       "      <td>normal</td>\n",
       "    </tr>\n",
       "    <tr>\n",
       "      <th>3</th>\n",
       "      <td>lightcontrol4</td>\n",
       "      <td>/agent4/lightcontrol4</td>\n",
       "      <td>/lightControler</td>\n",
       "      <td>Kitchen</td>\n",
       "      <td>/agent4/lightcontrol4</td>\n",
       "      <td>/lightControler</td>\n",
       "      <td>Kitchen</td>\n",
       "      <td>/agent4/lightcontrol4</td>\n",
       "      <td>/lightControler</td>\n",
       "      <td>registerService</td>\n",
       "      <td>none</td>\n",
       "      <td>1520031603290</td>\n",
       "      <td>normal</td>\n",
       "    </tr>\n",
       "    <tr>\n",
       "      <th>4</th>\n",
       "      <td>movement4</td>\n",
       "      <td>/agent4/movement4</td>\n",
       "      <td>/movementSensor</td>\n",
       "      <td>Kitchen</td>\n",
       "      <td>/agent4/movement4</td>\n",
       "      <td>/movementSensor</td>\n",
       "      <td>Kitchen</td>\n",
       "      <td>/agent4/movement4</td>\n",
       "      <td>/movementSensor</td>\n",
       "      <td>registerService</td>\n",
       "      <td>none</td>\n",
       "      <td>1520031603464</td>\n",
       "      <td>normal</td>\n",
       "    </tr>\n",
       "  </tbody>\n",
       "</table>\n",
       "</div>"
      ],
      "text/plain": [
       "        sourceID          sourceAddress       sourceType   sourceLocation  \\\n",
       "0  lightcontrol2  /agent2/lightcontrol2  /lightControler   BedroomParents   \n",
       "1  lightcontrol3  /agent3/lightcontrol3  /lightControler      Dinningroom   \n",
       "2  lightcontrol1  /agent1/lightcontrol1  /lightControler  BedroomChildren   \n",
       "3  lightcontrol4  /agent4/lightcontrol4  /lightControler          Kitchen   \n",
       "4      movement4      /agent4/movement4  /movementSensor          Kitchen   \n",
       "\n",
       "  destinationServiceAddress destinationServiceType destinationLocation  \\\n",
       "0     /agent2/lightcontrol2        /lightControler      BedroomParents   \n",
       "1     /agent3/lightcontrol3        /lightControler         Dinningroom   \n",
       "2     /agent1/lightcontrol1        /lightControler     BedroomChildren   \n",
       "3     /agent4/lightcontrol4        /lightControler             Kitchen   \n",
       "4         /agent4/movement4        /movementSensor             Kitchen   \n",
       "\n",
       "     accessedNodeAddress accessedNodeType        operation value  \\\n",
       "0  /agent2/lightcontrol2  /lightControler  registerService  none   \n",
       "1  /agent3/lightcontrol3  /lightControler  registerService  none   \n",
       "2  /agent1/lightcontrol1  /lightControler  registerService  none   \n",
       "3  /agent4/lightcontrol4  /lightControler  registerService  none   \n",
       "4      /agent4/movement4  /movementSensor  registerService  none   \n",
       "\n",
       "       timestamp normality  \n",
       "0  1520031600000    normal  \n",
       "1  1520031603269    normal  \n",
       "2  1520031603279    normal  \n",
       "3  1520031603290    normal  \n",
       "4  1520031603464    normal  "
      ]
     },
     "execution_count": 10,
     "metadata": {},
     "output_type": "execute_result"
    }
   ],
   "source": [
    "traffic_df = pd.read_csv(original_dataset_file)\n",
    "traffic_df.head()"
   ]
  },
  {
   "cell_type": "markdown",
   "metadata": {},
   "source": [
    "# Conclusion et analyse"
   ]
  },
  {
   "cell_type": "markdown",
   "metadata": {},
   "source": [
    "On ne note aucune annomalie à traiter, le dataset est propre, il n'y a aucun pré-traitement à effectuer (dataset original = dataset pré-traité). On peut passer à l'étape d'encodage."
   ]
  },
  {
   "cell_type": "markdown",
   "metadata": {},
   "source": [
    "# Création du dataset pré-traité"
   ]
  },
  {
   "cell_type": "markdown",
   "metadata": {},
   "source": [
    "On créé tout de même un autre fichier pour préserver l'original des eventuels changements à venir"
   ]
  },
  {
   "cell_type": "code",
   "execution_count": null,
   "metadata": {},
   "outputs": [],
   "source": [
    "preprocessed_dataset_file = \"dataset/preprocessed/main-traces-preprocessed.csv\""
   ]
  },
  {
   "cell_type": "code",
   "execution_count": 22,
   "metadata": {},
   "outputs": [
    {
     "name": "stdout",
     "output_type": "stream",
     "text": [
      "0                      none\n",
      "1                      none\n",
      "2                      none\n",
      "3                      none\n",
      "4                      none\n",
      "5                      none\n",
      "6                      none\n",
      "7                      none\n",
      "8                      none\n",
      "9                      none\n",
      "10                     none\n",
      "11                     none\n",
      "12                     none\n",
      "13                     none\n",
      "14                     none\n",
      "15                  20.0464\n",
      "16                        1\n",
      "17                     none\n",
      "18                     none\n",
      "19         1.52121675521E12\n",
      "20                     none\n",
      "21                     none\n",
      "22                  19.8391\n",
      "23                  19.9088\n",
      "24                     none\n",
      "25                     none\n",
      "26                  19.9523\n",
      "27                     none\n",
      "28                     none\n",
      "29                     none\n",
      "                ...        \n",
      "357922              19.7175\n",
      "357923                    1\n",
      "357924              20.0575\n",
      "357925              19.8420\n",
      "357926                    0\n",
      "357927                    1\n",
      "357928              20.1772\n",
      "357929                   10\n",
      "357930              20.0950\n",
      "357931                    1\n",
      "357932                    1\n",
      "357933              19.9091\n",
      "357934                false\n",
      "357935              19.5657\n",
      "357936              20.4920\n",
      "357937              20.0665\n",
      "357938              19.8995\n",
      "357939                    0\n",
      "357940    1.521225180883E12\n",
      "357941              20.3741\n",
      "357942              19.7822\n",
      "357943              19.6327\n",
      "357944                    1\n",
      "357945              19.6167\n",
      "357946                    0\n",
      "357947              20.3479\n",
      "357948                    9\n",
      "357949                 true\n",
      "357950                    0\n",
      "357951              20.4131\n",
      "Name: value, Length: 357952, dtype: object\n"
     ]
    }
   ],
   "source": [
    "value_list = traffic_df[\"value\"]"
   ]
  },
  {
   "cell_type": "code",
   "execution_count": 25,
   "metadata": {},
   "outputs": [],
   "source": [
    "def "
   ]
  },
  {
   "cell_type": "code",
   "execution_count": null,
   "metadata": {},
   "outputs": [],
   "source": []
  },
  {
   "cell_type": "code",
   "execution_count": null,
   "metadata": {},
   "outputs": [],
   "source": []
  }
 ],
 "metadata": {
  "kernelspec": {
   "display_name": "Python 3",
   "language": "python",
   "name": "python3"
  },
  "language_info": {
   "codemirror_mode": {
    "name": "ipython",
    "version": 3
   },
   "file_extension": ".py",
   "mimetype": "text/x-python",
   "name": "python",
   "nbconvert_exporter": "python",
   "pygments_lexer": "ipython3",
   "version": "3.7.0"
  }
 },
 "nbformat": 4,
 "nbformat_minor": 2
}
