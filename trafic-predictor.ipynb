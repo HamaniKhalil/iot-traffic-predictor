{
 "cells": [
  {
   "cell_type": "markdown",
   "metadata": {},
   "source": [
    "# Import"
   ]
  },
  {
   "cell_type": "code",
   "execution_count": 1,
   "metadata": {},
   "outputs": [],
   "source": [
    "import pandas as pd\n",
    "import numpy as np"
   ]
  },
  {
   "cell_type": "markdown",
   "metadata": {},
   "source": [
    "# Lecture du dataset encodé"
   ]
  },
  {
   "cell_type": "code",
   "execution_count": 2,
   "metadata": {},
   "outputs": [],
   "source": [
    "encoded_dataset_file = \"dataset/encoded/main-traces-encoded.csv\""
   ]
  },
  {
   "cell_type": "code",
   "execution_count": 3,
   "metadata": {},
   "outputs": [
    {
     "data": {
      "text/html": [
       "<div>\n",
       "<style scoped>\n",
       "    .dataframe tbody tr th:only-of-type {\n",
       "        vertical-align: middle;\n",
       "    }\n",
       "\n",
       "    .dataframe tbody tr th {\n",
       "        vertical-align: top;\n",
       "    }\n",
       "\n",
       "    .dataframe thead th {\n",
       "        text-align: right;\n",
       "    }\n",
       "</style>\n",
       "<table border=\"1\" class=\"dataframe\">\n",
       "  <thead>\n",
       "    <tr style=\"text-align: right;\">\n",
       "      <th></th>\n",
       "      <th>sourceID</th>\n",
       "      <th>sourceAddress</th>\n",
       "      <th>sourceType</th>\n",
       "      <th>sourceLocation</th>\n",
       "      <th>destinationServiceAddress</th>\n",
       "      <th>destinationServiceType</th>\n",
       "      <th>destinationLocation</th>\n",
       "      <th>accessedNodeAddress</th>\n",
       "      <th>accessedNodeType</th>\n",
       "      <th>operation</th>\n",
       "      <th>value</th>\n",
       "      <th>timestamp</th>\n",
       "      <th>normality</th>\n",
       "    </tr>\n",
       "  </thead>\n",
       "  <tbody>\n",
       "    <tr>\n",
       "      <th>0</th>\n",
       "      <td>1</td>\n",
       "      <td>85</td>\n",
       "      <td>174</td>\n",
       "      <td>182</td>\n",
       "      <td>85</td>\n",
       "      <td>174</td>\n",
       "      <td>182</td>\n",
       "      <td>85</td>\n",
       "      <td>174</td>\n",
       "      <td>299</td>\n",
       "      <td>-1.0</td>\n",
       "      <td>0.000000</td>\n",
       "      <td>0</td>\n",
       "    </tr>\n",
       "    <tr>\n",
       "      <th>1</th>\n",
       "      <td>2</td>\n",
       "      <td>86</td>\n",
       "      <td>174</td>\n",
       "      <td>183</td>\n",
       "      <td>86</td>\n",
       "      <td>174</td>\n",
       "      <td>183</td>\n",
       "      <td>86</td>\n",
       "      <td>174</td>\n",
       "      <td>299</td>\n",
       "      <td>-1.0</td>\n",
       "      <td>0.000038</td>\n",
       "      <td>0</td>\n",
       "    </tr>\n",
       "    <tr>\n",
       "      <th>2</th>\n",
       "      <td>3</td>\n",
       "      <td>87</td>\n",
       "      <td>174</td>\n",
       "      <td>184</td>\n",
       "      <td>87</td>\n",
       "      <td>174</td>\n",
       "      <td>184</td>\n",
       "      <td>87</td>\n",
       "      <td>174</td>\n",
       "      <td>299</td>\n",
       "      <td>-1.0</td>\n",
       "      <td>0.000038</td>\n",
       "      <td>0</td>\n",
       "    </tr>\n",
       "    <tr>\n",
       "      <th>3</th>\n",
       "      <td>4</td>\n",
       "      <td>88</td>\n",
       "      <td>174</td>\n",
       "      <td>185</td>\n",
       "      <td>88</td>\n",
       "      <td>174</td>\n",
       "      <td>185</td>\n",
       "      <td>88</td>\n",
       "      <td>174</td>\n",
       "      <td>299</td>\n",
       "      <td>-1.0</td>\n",
       "      <td>0.000038</td>\n",
       "      <td>0</td>\n",
       "    </tr>\n",
       "    <tr>\n",
       "      <th>4</th>\n",
       "      <td>5</td>\n",
       "      <td>89</td>\n",
       "      <td>175</td>\n",
       "      <td>185</td>\n",
       "      <td>89</td>\n",
       "      <td>175</td>\n",
       "      <td>185</td>\n",
       "      <td>89</td>\n",
       "      <td>175</td>\n",
       "      <td>299</td>\n",
       "      <td>-1.0</td>\n",
       "      <td>0.000040</td>\n",
       "      <td>0</td>\n",
       "    </tr>\n",
       "  </tbody>\n",
       "</table>\n",
       "</div>"
      ],
      "text/plain": [
       "   sourceID  sourceAddress  sourceType  sourceLocation  \\\n",
       "0         1             85         174             182   \n",
       "1         2             86         174             183   \n",
       "2         3             87         174             184   \n",
       "3         4             88         174             185   \n",
       "4         5             89         175             185   \n",
       "\n",
       "   destinationServiceAddress  destinationServiceType  destinationLocation  \\\n",
       "0                         85                     174                  182   \n",
       "1                         86                     174                  183   \n",
       "2                         87                     174                  184   \n",
       "3                         88                     174                  185   \n",
       "4                         89                     175                  185   \n",
       "\n",
       "   accessedNodeAddress  accessedNodeType  operation  value  timestamp  \\\n",
       "0                   85               174        299   -1.0   0.000000   \n",
       "1                   86               174        299   -1.0   0.000038   \n",
       "2                   87               174        299   -1.0   0.000038   \n",
       "3                   88               174        299   -1.0   0.000038   \n",
       "4                   89               175        299   -1.0   0.000040   \n",
       "\n",
       "   normality  \n",
       "0          0  \n",
       "1          0  \n",
       "2          0  \n",
       "3          0  \n",
       "4          0  "
      ]
     },
     "execution_count": 3,
     "metadata": {},
     "output_type": "execute_result"
    }
   ],
   "source": [
    "traffic_encoded_df = pd.read_csv(encoded_dataset_file)\n",
    "traffic_encoded_df.head()"
   ]
  },
  {
   "cell_type": "markdown",
   "metadata": {},
   "source": [
    "Notre sortie est `normality` et les 12 colonnes restantes sont les entrées"
   ]
  },
  {
   "cell_type": "code",
   "execution_count": 4,
   "metadata": {},
   "outputs": [],
   "source": [
    "training_outputs = traffic_encoded_df[\"normality\"]"
   ]
  },
  {
   "cell_type": "code",
   "execution_count": 5,
   "metadata": {},
   "outputs": [],
   "source": [
    "training_inputs = traffic_encoded_df.drop(\"normality\", axis=1)"
   ]
  },
  {
   "cell_type": "markdown",
   "metadata": {},
   "source": [
    "Génération de 12 poids pour les 12 neuronnes"
   ]
  },
  {
   "cell_type": "code",
   "execution_count": 6,
   "metadata": {},
   "outputs": [],
   "source": [
    "synaptic_weights = 2 * np.random.random((12, 1)) - 1"
   ]
  },
  {
   "cell_type": "markdown",
   "metadata": {},
   "source": [
    "# Fonctions"
   ]
  },
  {
   "cell_type": "markdown",
   "metadata": {},
   "source": [
    "## Fonction d'actication `sigmoid`"
   ]
  },
  {
   "cell_type": "code",
   "execution_count": 7,
   "metadata": {},
   "outputs": [],
   "source": [
    "def sigmoid(x):\n",
    "    return 1 / (1 + np.exp(-x))"
   ]
  },
  {
   "cell_type": "markdown",
   "metadata": {},
   "source": [
    "## Fonction de rétropropagation"
   ]
  },
  {
   "cell_type": "code",
   "execution_count": 8,
   "metadata": {},
   "outputs": [],
   "source": [
    "def sigmoid_derivative(x):\n",
    "    return x * (1 - x)"
   ]
  },
  {
   "cell_type": "markdown",
   "metadata": {},
   "source": [
    "# Entrainement du modele"
   ]
  },
  {
   "cell_type": "code",
   "execution_count": 9,
   "metadata": {},
   "outputs": [],
   "source": [
    "training_iterations = 20"
   ]
  },
  {
   "cell_type": "code",
   "execution_count": null,
   "metadata": {},
   "outputs": [],
   "source": [
    "for iteration in range(training_iterations):\n",
    "    # Think\n",
    "    training_inputs = training_inputs.astype(float)\n",
    "    output = sigmoid(np.dot(training_inputs, synaptic_weights))\n",
    "    \n",
    "    # Calculate the error\n",
    "    error = training_outputs - output\n",
    "\n",
    "    # Calculate the ajustments with backpropagation\n",
    "    adjustments = np.dot(training_inputs.T, error * sigmoid_derivative(output))\n",
    "    \n",
    "    # Make ajustments on weights\n",
    "    synaptic_weights += adjustments"
   ]
  },
  {
   "cell_type": "code",
   "execution_count": null,
   "metadata": {},
   "outputs": [],
   "source": []
  },
  {
   "cell_type": "code",
   "execution_count": 4,
   "metadata": {},
   "outputs": [],
   "source": []
  },
  {
   "cell_type": "code",
   "execution_count": null,
   "metadata": {},
   "outputs": [],
   "source": []
  },
  {
   "cell_type": "code",
   "execution_count": null,
   "metadata": {},
   "outputs": [],
   "source": []
  }
 ],
 "metadata": {
  "kernelspec": {
   "display_name": "Python 3",
   "language": "python",
   "name": "python3"
  },
  "language_info": {
   "codemirror_mode": {
    "name": "ipython",
    "version": 3
   },
   "file_extension": ".py",
   "mimetype": "text/x-python",
   "name": "python",
   "nbconvert_exporter": "python",
   "pygments_lexer": "ipython3",
   "version": "3.7.0"
  }
 },
 "nbformat": 4,
 "nbformat_minor": 2
}
